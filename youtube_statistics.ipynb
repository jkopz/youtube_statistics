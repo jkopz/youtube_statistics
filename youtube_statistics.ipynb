{
 "cells": [
  {
   "cell_type": "markdown",
   "metadata": {},
   "source": [
    "# Introduction"
   ]
  },
  {
   "cell_type": "markdown",
   "metadata": {},
   "source": [
    "## The datasets used in this analysis are available from __[kaggle](https://www.kaggle.com/)__.\n",
    "### __[🠮 Link to the Dataset](https://www.kaggle.com/datasnaek/youtube-new)__"
   ]
  },
  {
   "cell_type": "markdown",
   "metadata": {},
   "source": [
    "### The goal of this analysis is to find correlations between likes, dislikes, views and the number of comments a video has.\n",
    "### Data from USA and Great Britain are compared."
   ]
  },
  {
   "cell_type": "code",
   "execution_count": 3,
   "metadata": {},
   "outputs": [],
   "source": [
    "import numpy as np\n",
    "import pandas as pd\n",
    "import seaborn as sns\n",
    "import matplotlib.pyplot as plt"
   ]
  },
  {
   "cell_type": "markdown",
   "metadata": {},
   "source": [
    "# Import the data"
   ]
  },
  {
   "cell_type": "code",
   "execution_count": 4,
   "metadata": {},
   "outputs": [],
   "source": [
    "us = pd.read_csv(\"USvideos.csv\")\n",
    "gb = pd.read_csv(\"GBvideos.csv\")"
   ]
  },
  {
   "cell_type": "markdown",
   "metadata": {},
   "source": [
    "# Inspect the first few rowes"
   ]
  },
  {
   "cell_type": "code",
   "execution_count": 5,
   "metadata": {},
   "outputs": [
    {
     "name": "stdout",
     "output_type": "stream",
     "text": [
      "      video_id trending_date  \\\n",
      "0  2kyS6SvSYSE      17.14.11   \n",
      "1  1ZAPwfrtAFY      17.14.11   \n",
      "2  5qpjK5DgCt4      17.14.11   \n",
      "3  puqaWrEC7tY      17.14.11   \n",
      "4  d380meD0W0M      17.14.11   \n",
      "\n",
      "                                               title          channel_title  \\\n",
      "0                 WE WANT TO TALK ABOUT OUR MARRIAGE           CaseyNeistat   \n",
      "1  The Trump Presidency: Last Week Tonight with J...        LastWeekTonight   \n",
      "2  Racist Superman | Rudy Mancuso, King Bach & Le...           Rudy Mancuso   \n",
      "3                   Nickelback Lyrics: Real or Fake?  Good Mythical Morning   \n",
      "4                           I Dare You: GOING BALD!?               nigahiga   \n",
      "\n",
      "   category_id              publish_time  \\\n",
      "0           22  2017-11-13T17:13:01.000Z   \n",
      "1           24  2017-11-13T07:30:00.000Z   \n",
      "2           23  2017-11-12T19:05:24.000Z   \n",
      "3           24  2017-11-13T11:00:04.000Z   \n",
      "4           24  2017-11-12T18:01:41.000Z   \n",
      "\n",
      "                                                tags    views   likes  \\\n",
      "0                                    SHANtell martin   748374   57527   \n",
      "1  last week tonight trump presidency|\"last week ...  2418783   97185   \n",
      "2  racist superman|\"rudy\"|\"mancuso\"|\"king\"|\"bach\"...  3191434  146033   \n",
      "3  rhett and link|\"gmm\"|\"good mythical morning\"|\"...   343168   10172   \n",
      "4  ryan|\"higa\"|\"higatv\"|\"nigahiga\"|\"i dare you\"|\"...  2095731  132235   \n",
      "\n",
      "   dislikes  comment_count                                  thumbnail_link  \\\n",
      "0      2966          15954  https://i.ytimg.com/vi/2kyS6SvSYSE/default.jpg   \n",
      "1      6146          12703  https://i.ytimg.com/vi/1ZAPwfrtAFY/default.jpg   \n",
      "2      5339           8181  https://i.ytimg.com/vi/5qpjK5DgCt4/default.jpg   \n",
      "3       666           2146  https://i.ytimg.com/vi/puqaWrEC7tY/default.jpg   \n",
      "4      1989          17518  https://i.ytimg.com/vi/d380meD0W0M/default.jpg   \n",
      "\n",
      "   comments_disabled  ratings_disabled  video_error_or_removed  \\\n",
      "0              False             False                   False   \n",
      "1              False             False                   False   \n",
      "2              False             False                   False   \n",
      "3              False             False                   False   \n",
      "4              False             False                   False   \n",
      "\n",
      "                                         description  \n",
      "0  SHANTELL'S CHANNEL - https://www.youtube.com/s...  \n",
      "1  One year after the presidential election, John...  \n",
      "2  WATCH MY PREVIOUS VIDEO ▶ \\n\\nSUBSCRIBE ► http...  \n",
      "3  Today we find out if Link is a Nickelback amat...  \n",
      "4  I know it's been a while since we did this sho...  \n",
      "      video_id trending_date  \\\n",
      "0  Jw1Y-zhQURU      17.14.11   \n",
      "1  3s1rvMFUweQ      17.14.11   \n",
      "2  n1WpP7iowLc      17.14.11   \n",
      "3  PUTEiSjKwJU      17.14.11   \n",
      "4  rHwDegptbI4      17.14.11   \n",
      "\n",
      "                                               title  \\\n",
      "0      John Lewis Christmas Ad 2017 - #MozTheMonster   \n",
      "1          Taylor Swift: …Ready for It? (Live) - SNL   \n",
      "2         Eminem - Walk On Water (Audio) ft. Beyoncé   \n",
      "3  Goals from Salford City vs Class of 92 and Fri...   \n",
      "4  Dashcam captures truck's near miss with child ...   \n",
      "\n",
      "                channel_title  category_id              publish_time  \\\n",
      "0                  John Lewis           26  2017-11-10T07:38:29.000Z   \n",
      "1         Saturday Night Live           24  2017-11-12T06:24:44.000Z   \n",
      "2                  EminemVEVO           10  2017-11-10T17:00:03.000Z   \n",
      "3  Salford City Football Club           17  2017-11-13T02:30:38.000Z   \n",
      "4            Cute Girl Videos           25  2017-11-13T01:45:13.000Z   \n",
      "\n",
      "                                                tags     views   likes  \\\n",
      "0  christmas|\"john lewis christmas\"|\"john lewis\"|...   7224515   55681   \n",
      "1  SNL|\"Saturday Night Live\"|\"SNL Season 43\"|\"Epi...   1053632   25561   \n",
      "2  Eminem|\"Walk\"|\"On\"|\"Water\"|\"Aftermath/Shady/In...  17158579  787420   \n",
      "3  Salford City FC|\"Salford City\"|\"Salford\"|\"Clas...     27833     193   \n",
      "4                                             [none]      9815      30   \n",
      "\n",
      "   dislikes  comment_count                                  thumbnail_link  \\\n",
      "0     10247           9479  https://i.ytimg.com/vi/Jw1Y-zhQURU/default.jpg   \n",
      "1      2294           2757  https://i.ytimg.com/vi/3s1rvMFUweQ/default.jpg   \n",
      "2     43420         125882  https://i.ytimg.com/vi/n1WpP7iowLc/default.jpg   \n",
      "3        12             37  https://i.ytimg.com/vi/PUTEiSjKwJU/default.jpg   \n",
      "4         2             30  https://i.ytimg.com/vi/rHwDegptbI4/default.jpg   \n",
      "\n",
      "   comments_disabled  ratings_disabled  video_error_or_removed  \\\n",
      "0              False             False                   False   \n",
      "1              False             False                   False   \n",
      "2              False             False                   False   \n",
      "3              False             False                   False   \n",
      "4              False             False                   False   \n",
      "\n",
      "                                         description  \n",
      "0  Click here to continue the story and make your...  \n",
      "1  Musical guest Taylor Swift performs …Ready for...  \n",
      "2  Eminem's new track Walk on Water ft. Beyoncé i...  \n",
      "3  Salford drew 4-4 against the Class of 92 and F...  \n",
      "4  Dashcam captures truck's near miss with child ...  \n",
      "Index(['video_id', 'trending_date', 'title', 'channel_title', 'category_id',\n",
      "       'publish_time', 'tags', 'views', 'likes', 'dislikes', 'comment_count',\n",
      "       'thumbnail_link', 'comments_disabled', 'ratings_disabled',\n",
      "       'video_error_or_removed', 'description'],\n",
      "      dtype='object')\n"
     ]
    }
   ],
   "source": [
    "print(us.head())\n",
    "print(gb.head())\n",
    "\n",
    "print(us.columns)"
   ]
  },
  {
   "cell_type": "markdown",
   "metadata": {},
   "source": [
    "# Check if there is a correlation between likes, dislikes, views and the number of comments a video has"
   ]
  },
  {
   "cell_type": "markdown",
   "metadata": {},
   "source": [
    "The brighter the color or the closer the number is to 1, the higher the correlation."
   ]
  },
  {
   "cell_type": "code",
   "execution_count": 15,
   "metadata": {},
   "outputs": [
    {
     "data": {
      "image/png": "[encoded data removed]",
      "text/plain": [
       "<Figure size 1080x360 with 4 Axes>"
      ]
     },
     "metadata": {
      "needs_background": "light"
     },
     "output_type": "display_data"
    }
   ],
   "source": [
    "us_check_correlation = us[[\"likes\", \"dislikes\", \"views\", \"comment_count\"]]\n",
    "gb_check_correlation = gb[[\"likes\", \"dislikes\", \"views\", \"comment_count\"]]\n",
    "\n",
    "us_corr = us_check_correlation.corr()\n",
    "gb_corr = gb_check_correlation.corr()\n",
    "\n",
    "fig, (ax1, ax2) = plt.subplots(1,2, sharex=True, figsize=(15,5))\n",
    "\n",
    "sns.heatmap(us_corr, annot=True, ax=ax1);\n",
    "sns.heatmap(gb_corr, annot=True, ax=ax2);\n",
    "plt.show()\n"
   ]
  },
  {
   "cell_type": "markdown",
   "metadata": {},
   "source": [
    "# Adding a like to dislike ratio column to the datasets"
   ]
  },
  {
   "cell_type": "code",
   "execution_count": 17,
   "metadata": {},
   "outputs": [],
   "source": [
    "us_likes = us[\"likes\"]\n",
    "us_dislikes = us[\"dislikes\"]\n",
    "\n",
    "gb_likes = gb[\"dislikes\"]\n",
    "gb_dislikes = gb[\"dislikes\"]\n",
    "\n",
    "us[\"like_dislike_ratio\"] = us[\"likes\"] / us[\"dislikes\"]\n",
    "gb[\"like_dislike_ratio\"] = gb[\"likes\"] / gb[\"dislikes\"]"
   ]
  },
  {
   "cell_type": "markdown",
   "metadata": {},
   "source": []
  }
 ],
 "metadata": {
  "interpreter": {
   "hash": "1a0033e9a0f32c3e0bb919cc237635a9b53c61429f85f23cb7a78178bf084d7e"
  },
  "kernelspec": {
   "display_name": "Python 3.8.8 64-bit ('base': conda)",
   "name": "python3"
  },
  "language_info": {
   "codemirror_mode": {
    "name": "ipython",
    "version": 3
   },
   "file_extension": ".py",
   "mimetype": "text/x-python",
   "name": "python",
   "nbconvert_exporter": "python",
   "pygments_lexer": "ipython3",
   "version": "3.8.8"
  },
  "orig_nbformat": 4
 },
 "nbformat": 4,
 "nbformat_minor": 2
}
